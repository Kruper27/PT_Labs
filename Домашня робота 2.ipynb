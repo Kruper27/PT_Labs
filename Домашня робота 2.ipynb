{
 "cells": [
  {
   "cell_type": "markdown",
   "metadata": {
    "collapsed": false
   },
   "source": [
    "# Домашня робота №2"
   ]
  },
  {
   "cell_type": "markdown",
   "metadata": {
    "collapsed": false
   },
   "source": [
    "## 1 Пароль\n",
    "Напишіть програму (функцію) для генерування випадкового пароля з такими обмеженнями:\n",
    "- пароль складається з рівно $10$ символів\n",
    "- пароль містить хоча б одну маленьку латинську літеру [a-z]\n",
    "- пароль містить хоча б одну велику латинську літеру [A-Z]\n",
    "- пароль містить хоча б одну цифру [0-9]\n",
    "- пароль містить хоча б один спеціальний символ [~!@#$%^&*()-_+=\\/{}[].,?<>:;]"
   ]
  },
  {
   "cell_type": "code",
   "execution_count": 2,
   "metadata": {
    "collapsed": false
   },
   "outputs": [
    {
     "name": "stdout",
     "output_type": "stream",
     "text": [
      "]gPXb6B/W?\n"
     ]
    }
   ],
   "source": [
    "# Місце для Вашого коду\n",
    "\n",
    "import numpy as np\n",
    "\n",
    "a1 = [1, 2, 3, 4, 5, 6, 7, 8, 9, 0]\n",
    "a2 = [chr(i) for i in range(ord('a'), ord('z')+1)]\n",
    "a3 = [chr(i) for i in range(ord('A'), ord('Z')+1)]\n",
    "a4 = list('~!@#$%^&*()-_+=\\/{}[].,?<>:;')\n",
    "p = [a1, a2, a3, a4]\n",
    "ans = [np.random.choice(i) for i in p]\n",
    "ans1 = list(np.random.choice(a1 + a2 +a3 +a4,size = 6))\n",
    "pas = ans + ans1\n",
    "np.random.shuffle(pas)\n",
    "print(''.join(list(map(str, pas))))"
   ]
  },
  {
   "cell_type": "markdown",
   "metadata": {
    "collapsed": false
   },
   "source": [
    "## 2 Герби в ряд\n",
    "Реалізуйте функцію для обчислення емпіричної та теоретичної імовірностей випадіння $k$ гербів (HEADS) підряд у серії з $n$ підкидань чесної монетки. Підрахуйте відповідні ймовірності для таких параметрів:\n",
    "- $k = 2, n = 10, 50, 100, 500, 1000, 5000, 10000$\n",
    "- $k = 3, n = 10, 50, 100, 500, 1000, 5000, 10000$\n",
    "\n",
    "**Зауваження.** Нехай $k = 2, n = 10$ та маємо таку послідовність результатів підкидання монети: $\\{ H, T, H, H, H, H, T, T, H, T \\}$. Тоді матимемо $3$ випадки випадіння двох гербів підряд та емпіричну ймовірність такої події $1/3$."
   ]
  },
  {
   "cell_type": "code",
   "execution_count": 9,
   "metadata": {
    "collapsed": false
   },
   "outputs": [
    {
     "name": "stdout",
     "output_type": "stream",
     "text": [
      "k = 2\n",
      "n: 10, prob: 0.2222222222222222, theor: 0.25\n",
      "n: 50, prob: 0.2857142857142857, theor: 0.25\n",
      "n: 100, prob: 0.1919191919191919, theor: 0.25\n",
      "n: 500, prob: 0.22645290581162325, theor: 0.25\n",
      "n: 1000, prob: 0.24324324324324326, theor: 0.25\n",
      "n: 5000, prob: 0.2470494098819764, theor: 0.25\n",
      "n: 10000, prob: 0.2514251425142514, theor: 0.25\n",
      "\n",
      "\n",
      "k = 3\n",
      "n: 10, prob: 0.125, theor: 0.125\n",
      "n: 50, prob: 0.22916666666666666, theor: 0.125\n",
      "n: 100, prob: 0.030612244897959183, theor: 0.125\n",
      "n: 500, prob: 0.09437751004016064, theor: 0.125\n",
      "n: 1000, prob: 0.15130260521042085, theor: 0.125\n",
      "n: 5000, prob: 0.12705082032813125, theor: 0.125\n",
      "n: 10000, prob: 0.1283256651330266, theor: 0.125\n",
      "\n",
      "\n"
     ]
    }
   ],
   "source": [
    "def test1(n, k):\n",
    "    psch = n - k + 1\n",
    "    amt = 0\n",
    "    src = ['H', 'T']\n",
    "    data = ''.join(list(np.random.choice(src, n)))\n",
    "    for i in range(len(data) - k):\n",
    "        if data[i:i + k] == 'H' * k:\n",
    "            amt += 1\n",
    "    return amt / psch\n",
    "\n",
    "def theor1(n, k):\n",
    "    return 1 / (1 << k)\n",
    "\n",
    "nVals = (10,50,100,500,1000,5000,10000)\n",
    "kVals = (2, 3)\n",
    "\n",
    "for k in kVals:\n",
    "    print('k =', k)\n",
    "    for n in nVals:\n",
    "        res = test1(n, k)\n",
    "        tRes = theor1(n, k)\n",
    "        print(f\"n: {n}, prob: {res}, theor: {tRes}\")\n",
    "    print('\\n')"
   ]
  },
  {
   "cell_type": "markdown",
   "metadata": {
    "collapsed": false
   },
   "source": [
    "## 3 Найбільше число\n",
    "Реалізуйте функцію підрахунку точної (теоретичної) імовірності того, що максимальне число після $n$ кидків звичайного грального кубика дорівнює $x\\_max$, для таких параметрів:\n",
    "- $n = 3, x\\_max = 6$\n",
    "- $n = 2, x\\_max = 3$\n",
    "- $n = 3, x\\_max = 5$\n",
    "\n",
    "Тобто, якщо $X_i, i = 1, \\ldots, n$, - число на $i$-му кидку кубика, а $X = \\max\\limits_{1 \\leq i \\leq n} X_i$, то потрібно знайти ймовірність $\\textbf{P} \\left( X = x\\_max \\right)$.\n",
    "\n",
    "Підрахуйте також емпіричні ймовірності відповідних подій у випадку $10000$ симуляцій.\n",
    "\n",
    "**Зауваження.** Якщо введені параметри не мають сенсу, то повертати $0$.\n",
    "Тобто, якщо вводиться $x\\_max < 1$ або $x\\_max > 6$."
   ]
  },
  {
   "cell_type": "code",
   "execution_count": 2,
   "metadata": {
    "collapsed": false
   },
   "outputs": [
    {
     "name": "stdout",
     "output_type": "stream",
     "text": [
      "n: 5, MaxVal: 1, test: 0.0, theor: 0.0001286008230452675\n",
      "n: 10, MaxVal: 1, test: 0.0, theor: 1.65381716879202e-08\n",
      "n: 20, MaxVal: 1, test: 0.0, theor: 2.7351112277912534e-16\n",
      "n: 50, MaxVal: 1, test: 0.0, theor: 1.2371930760744284e-39\n",
      "n: 100, MaxVal: 1, test: 0.0, theor: 1.5306467074865063e-78\n",
      "n: 5, MaxVal: 2, test: 0.0, theor: 0.00205761316872428\n",
      "n: 10, MaxVal: 2, test: 0.0, theor: 8.467543904215143e-06\n",
      "n: 20, MaxVal: 2, test: 0.0, theor: 1.4339859953962207e-10\n",
      "n: 50, MaxVal: 2, test: 0.0, theor: 6.964777845492692e-25\n",
      "n: 100, MaxVal: 2, test: 0.0, theor: 9.701626087413164e-49\n",
      "n: 5, MaxVal: 3, test: 0.0, theor: 0.010416666666666666\n",
      "n: 10, MaxVal: 3, test: 0.0, theor: 0.0003255208333333333\n",
      "n: 20, MaxVal: 3, test: 0.0, theor: 3.178914388020833e-07\n",
      "n: 50, MaxVal: 3, test: 0.0, theor: 2.9605947323337506e-16\n",
      "n: 100, MaxVal: 3, test: 0.0, theor: 2.629536350736706e-31\n",
      "n: 5, MaxVal: 4, test: 0.0, theor: 0.03292181069958848\n",
      "n: 10, MaxVal: 4, test: 0.0, theor: 0.004335382478958153\n",
      "n: 20, MaxVal: 4, test: 0.0, theor: 7.518216495542937e-05\n",
      "n: 50, MaxVal: 4, test: 0.0, theor: 3.920821363709897e-10\n",
      "n: 100, MaxVal: 4, test: 0.0, theor: 6.149136066449573e-19\n",
      "n: 5, MaxVal: 5, test: 0.4, theor: 0.08037551440329219\n",
      "n: 10, MaxVal: 5, test: 0.1, theor: 0.03230111657796914\n",
      "n: 20, MaxVal: 5, test: 0.05, theor: 0.0052168106609177655\n",
      "n: 50, MaxVal: 5, test: 0.0, theor: 2.1976963823434452e-05\n",
      "n: 100, MaxVal: 5, test: 0.0, theor: 2.4149346944827333e-09\n",
      "n: 5, MaxVal: 6, test: 0.4, theor: 0.16666666666666666\n",
      "n: 10, MaxVal: 6, test: 0.9, theor: 0.16666666666666666\n",
      "n: 20, MaxVal: 6, test: 0.95, theor: 0.16666666666666666\n",
      "n: 50, MaxVal: 6, test: 1.0, theor: 0.16666666666666666\n",
      "n: 100, MaxVal: 6, test: 1.0, theor: 0.16666666666666666\n"
     ]
    }
   ],
   "source": [
    "# Місце для Вашого коду\n",
    "import numpy as np\n",
    "def theor2(n, xMax):\n",
    "    return xMax ** (n - 1) / 6 ** n\n",
    "\n",
    "def test2(n, xMax):\n",
    "    cases = list(range(1, 7))\n",
    "    amt = 0\n",
    "    for i in range(n):\n",
    "        sample = np.random.choice(cases, n)\n",
    "        if max(sample) == xMax:\n",
    "            amt += 1\n",
    "    return amt/(n)\n",
    "\n",
    "\n",
    "nVals = (5, 10, 20, 50, 100)\n",
    "xMaxVals = (range(1, 7))\n",
    "for v in xMaxVals:\n",
    "    for n in nVals:\n",
    "        t = theor2(n, v)\n",
    "        e = test2(n, v)\n",
    "        print(f\"n: {n}, MaxVal: {v}, test: {e}, theor: {t}\")\n"
   ]
  },
  {
   "cell_type": "markdown",
   "metadata": {
    "collapsed": false
   },
   "source": [
    "## 4 Сума чисел\n",
    "Реалізуйте функцію підрахунку точної (теоретичної) імовірності того, що сума чисел після $n$ кидків звичайного грального кубика дорівнює $s$, для таких параметрів:\n",
    "- $n = 3, s = 13$\n",
    "- $n = 2, s = 5$\n",
    "- $n = 3, s = 7$\n",
    "\n",
    "Тобто, якщо $X_i, i = 1, \\ldots, n$, - число на $i$-му кидку кубика, а $X = \\sum\\limits_{i = 1}^{n} X_i$, то потрібно знайти ймовірність $\\textbf{P} \\left( X = s \\right)$.\n",
    "\n",
    "Підрахуйте також емпіричні ймовірності відповідних подій у випадку $10000$ симуляцій.\n",
    "\n",
    "**Зауваження.** Якщо введені параметри не мають сенсу, то повертати $0$.\n",
    "Наприклад, якщо при $n = 3$ вводиться $s < 3$ або $s > 18$."
   ]
  },
  {
   "cell_type": "code",
   "execution_count": 0,
   "metadata": {
    "collapsed": false
   },
   "outputs": [
   ],
   "source": [
   ]
  },
  {
   "cell_type": "code",
   "execution_count": 13,
   "metadata": {
    "collapsed": false
   },
   "outputs": [
    {
     "name": "stdout",
     "output_type": "stream",
     "text": [
      "n = 3, sum = 13\n",
      "Theor prob:  0.09722222222222222\n",
      "Emp prob: 0.0994\n",
      "\n",
      "n = 2, sum = 5\n",
      "Theor prob:  0.1111111111111111\n"
     ]
    },
    {
     "name": "stdout",
     "output_type": "stream",
     "text": [
      "Emp prob: 0.1102\n",
      "\n",
      "n = 3, sum = 7\n",
      "Theor prob:  0.06944444444444445\n"
     ]
    },
    {
     "name": "stdout",
     "output_type": "stream",
     "text": [
      "Emp prob: 0.0702\n",
      "\n"
     ]
    }
   ],
   "source": [
    "# Місце для Вашого коду\n",
    "import itertools\n",
    "\n",
    "N = 10000\n",
    "values = list(range(1, 7))\n",
    "for n, s in [(3, 13), (2, 5), (3, 7)]:\n",
    "    lst = list(itertools.product(values, repeat=n))\n",
    "    print('n = {}, sum = {}'.format(n, s))\n",
    "    print('Theor prob: ', len(list(filter(lambda x: sum(x) == s, lst))) / len(lst))\n",
    "\n",
    "    rand = [sum(np.random.choice(values, size=n)) for _ in range(N)]\n",
    "    print('Emp prob: {}\\n'.format(rand.count(s) / N))"
   ]
  },
  {
   "cell_type": "code",
   "execution_count": 0,
   "metadata": {
    "collapsed": false
   },
   "outputs": [
   ],
   "source": [
   ]
  }
 ],
 "metadata": {
  "kernelspec": {
   "display_name": "Python 3 (Ubuntu Linux)",
   "language": "python",
   "name": "python3"
  },
  "language_info": {
   "codemirror_mode": {
    "name": "ipython",
    "version": 3
   },
   "file_extension": ".py",
   "mimetype": "text/x-python",
   "name": "python",
   "nbconvert_exporter": "python",
   "pygments_lexer": "ipython3",
   "version": "3.6.7"
  }
 },
 "nbformat": 4,
 "nbformat_minor": 0
}