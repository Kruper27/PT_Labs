{
 "cells": [
  {
   "cell_type": "markdown",
   "metadata": {
    "collapsed": false
   },
   "source": [
    "# Домашня робота №3\n",
    "Будемо використовувати *Збірник задач з теорії ймовірностей та математичної статистики: навч. посібник / В.В. Голомозий, М.В. Карташов, К.В. Ральченко. – К.: Видавничо-поліграфічний центр «Київський університет», 2015. – 366 с.*\n",
    "Електронну версію збірника можна знайти [тут](http://probability.univ.kiev.ua/userfiles/kmv/gkr-problems.pdf)."
   ]
  },
  {
   "cell_type": "markdown",
   "metadata": {
    "collapsed": false
   },
   "source": [
    "## 1 Задача 1.3.12\n",
    "Знайти ймовiрнiсть того, що серед трьох цифр, кожна з яких вибрана навмання, буде лише 1, 2, 3 рiзних.\n",
    "\n",
    "Обчисліть теоретичну (повним перебором) та еміричну (симулюванням $100000$ експериментів) імовірності."
   ]
  },
  {
   "cell_type": "code",
   "execution_count": 9,
   "metadata": {
    "collapsed": false
   },
   "outputs": [
    {
     "name": "stdout",
     "output_type": "stream",
     "text": [
      "Theoretical prob 1 = 0.0\n"
     ]
    },
    {
     "name": "stdout",
     "output_type": "stream",
     "text": [
      "Empirical prob 1 = 0.01021\n",
      "Theoretical prob 2 = 0.0\n"
     ]
    },
    {
     "name": "stdout",
     "output_type": "stream",
     "text": [
      "Empirical prob 2 = 0.27228\n",
      "Theoretical prob 3 = 0.0\n"
     ]
    },
    {
     "name": "stdout",
     "output_type": "stream",
     "text": [
      "Empirical prob 3 = 0.72066\n"
     ]
    }
   ],
   "source": [
    "# Місце для Вашого коду\n",
    "\n",
    "from itertools import product\n",
    "import numpy as np\n",
    "checkk = range(10)\n",
    "\n",
    "def teor_prob(p):\n",
    "    a = list(product(checkk, repeat = 3))\n",
    "    b = []\n",
    "    for x in a:\n",
    "        if len(set(x)) == p:\n",
    "            b.append(x)\n",
    "    return len(b)/10**3\n",
    "\n",
    "def empl_pr(p):\n",
    "    a = []\n",
    "    b = []\n",
    "    for i in range(100000):\n",
    "        l = list(np.random.choice(checkk, size = 3))\n",
    "        a.append(l)\n",
    "    for x in a:\n",
    "        if len(set(x)) == p:\n",
    "            b.append(x)\n",
    "    return len(b)/100000\n",
    "\n",
    "\n",
    "\n",
    "sp = [1,2,3]\n",
    "for i in sp:\n",
    "    print(\"Theoretical prob {} = {}\".format(i, teor_pr(i)))\n",
    "    print(\"Empirical prob {} = {}\".format(i, emp_pr(i)))"
   ]
  },
  {
   "cell_type": "markdown",
   "metadata": {
    "collapsed": false
   },
   "source": [
    "# 2 Задача 1.3.14\n",
    "З послiдовностi чисел $1, 2, . . . , n$ вибирають навмання $k$ рiзних чисел.\n",
    "Яка ймовiрнiсть того, що:\n",
    "1. кожне з вибраних чисел кратне даному числу $p$;\n",
    "2. кожне з вибраних чисел кратне хоча б одному з двох взаємно простих чисел $p$ i $q$;\n",
    "3. серед вибраних чисел є хоча б одне кратне $p$?\n",
    "\n",
    "Напишіть  відповідні функції для обрахунку теоретичної (повним перебором) та еміричної (симулюванням $100000$ експериментів) імовірностей в залежності від параметрів $n, k, p, q$.\n",
    "Виведіть результат для\n",
    "- $n = 25, k = 5, p = 3, q = 4$;\n",
    "- $n = 25, k = 10, p = 3, q = 4$."
   ]
  },
  {
   "cell_type": "code",
   "execution_count": 8,
   "metadata": {
    "collapsed": false
   },
   "outputs": [
    {
     "name": "stdout",
     "output_type": "stream",
     "text": [
      "teoretical for (25, 5, 3, 4): [0.001054018445322793, 0.014906832298136646, 0.8835309617918313]\n"
     ]
    },
    {
     "name": "stdout",
     "output_type": "stream",
     "text": [
      "empirical for (25, 5, 3, 4): [0.00107, 0.01515, 0.88272]\n"
     ]
    },
    {
     "name": "stdout",
     "output_type": "stream",
     "text": [
      "teoretical for (25, 10, 3, 4): [0.0, 2.0191142818683536e-05, 0.9940503432494279]\n"
     ]
    },
    {
     "name": "stdout",
     "output_type": "stream",
     "text": [
      "empirical for (25, 10, 3, 4): [0.0, 2e-05, 0.99395]\n"
     ]
    }
   ],
   "source": [
    "# Місце для Вашого коду\n",
    "from itertools import combinations\n",
    "\n",
    "def teor(n, k, p, q):\n",
    "    amount = [0, 0, 0]\n",
    "    count = 0\n",
    "    for el in combinations(range(1, n+1), k):\n",
    "        count += 1\n",
    "        if all(map(lambda a: a % p == 0, el)):\n",
    "            amount[0] += 1\n",
    "        if all(map(lambda a: a % p == 0 or a % q == 0, el)):\n",
    "            amount[1] += 1\n",
    "        if any(map(lambda a: a % p == 0, el)):\n",
    "            amount[2] += 1\n",
    "    return list(map(lambda a: a / count, amount))\n",
    "\n",
    "\n",
    "def practice(n, k, p, q):\n",
    "    amount = [0, 0, 0]\n",
    "    count = 0\n",
    "    for _ in range(100000):\n",
    "        el = np.random.choice(range(1, n+1), size=k, replace=False)\n",
    "        count += 1\n",
    "        if all(map(lambda a: a % p == 0, el)):\n",
    "            amount[0] += 1\n",
    "        if all(map(lambda a: a % p == 0 or a % q == 0, el)):\n",
    "            amount[1] += 1\n",
    "        if any(map(lambda a: a % p == 0, el)):\n",
    "            amount[2] += 1\n",
    "    return list(map(lambda a: a / count, amount))\n",
    "\n",
    "\n",
    "for el in [(25, 5, 3, 4), (25, 10, 3, 4)]:\n",
    "    print('teoretical for {}: {}'.format(el, teor(*el)))\n",
    "    print('empirical for {}: {}'.format(el, practice(*el)))\n"
   ]
  },
  {
   "cell_type": "markdown",
   "metadata": {
    "collapsed": false
   },
   "source": [
    "# 3 Задача 1.4.6\n",
    "В коморi знаходяться $n$ пар черевикiв.\n",
    "З них випадковим чином вибираються $2k$ черевикiв.\n",
    "Яка ймовiрнiсть того, що серед вибраних черевикiв:\n",
    "1. вiдсутнi парнi;\n",
    "2. є рiвно одна комплектна пара;\n",
    "3. є двi комплектнi пари?\n",
    "\n",
    "Напишіть  відповідні функції для обрахунку теоретичної (повним перебором) та еміричної (симулюванням $100000$ експериментів) імовірностей в залежності від параметрів $n, k$.\n",
    "Виведіть результат для\n",
    "- $n = 8, k = 4$;\n",
    "- $n = 13, k = 5$."
   ]
  },
  {
   "cell_type": "code",
   "execution_count": 6,
   "metadata": {
    "collapsed": false
   },
   "outputs": [
    {
     "name": "stdout",
     "output_type": "stream",
     "text": [
      "n=8, k=4\n",
      "\n"
     ]
    },
    {
     "name": "stdout",
     "output_type": "stream",
     "text": [
      "1- empirical: 0.01958,\n",
      " theoretical: 0.01989121989121989\n",
      "2- empirical: 0.27843,\n",
      " theoretical: 0.2784770784770785\n",
      "3- empirical: 0.70199,\n",
      " theoretical: 0.7016317016317016\n",
      "\n",
      "\n",
      "n=13, k=5\n",
      "\n"
     ]
    },
    {
     "name": "stdout",
     "output_type": "stream",
     "text": [
      "1- empirical: 0.05444,\n",
      " theoretical: 0.05513528065688518\n",
      "2- empirical: 0.30966,\n",
      " theoretical: 0.31013595369497915\n",
      "3- empirical: 0.6359,\n",
      " theoretical: 0.6347287656481356\n",
      "\n",
      "\n"
     ]
    }
   ],
   "source": [
    "# Місце для Вашого коду\n",
    "from math import factorial\n",
    "def combinations(n, k):\n",
    "    return factorial(n) / (factorial(k) * factorial(n - k))\n",
    "\n",
    "def _empirical(n, k):\n",
    "    count_1 = 0\n",
    "    count_2 = 0\n",
    "    count_3 = 0\n",
    "\n",
    "    for i in range(100000):\n",
    "        lst = []\n",
    "        pool = list(range(n))*2\n",
    "        for j in range(2*k):\n",
    "            t = np.random.choice(list(pool))\n",
    "            lst.append(t)\n",
    "            pool.remove(lst[-1])\n",
    "        if len(set(lst)) == len(lst):\n",
    "            count_1 += 1\n",
    "        elif len(set(lst)) == len(lst)-1:\n",
    "            count_2 += 1\n",
    "        elif len(set(lst)) <= len(lst)-2:\n",
    "            count_3 += 1\n",
    "    return count_1/100000, count_2/100000, count_3/100000\n",
    "\n",
    "\n",
    "def _theoretical(n, k):\n",
    "    rez1 = 2 ** (2 * k) * combinations(n, 2 * k) / combinations(2*n, 2*k)\n",
    "    rez2 = 2 ** (2 * k - 2) * n * combinations(n - 1, 2 * k - 2) / combinations(2 * n, 2 * k)\n",
    "    rez3 = 1- rez1 - rez2\n",
    "    return rez1, rez2, rez3\n",
    "\n",
    "for n, k in [(8, 4), (13, 5)]:\n",
    "    print(\"n={}, k={}\\n\".format(n, k))\n",
    "    emp = _empirical(n, k)\n",
    "    theo = _theoretical(n, k)\n",
    "    for i in range(3):\n",
    "        print(\"{}- empirical: {},\\n theoretical: {}\".format(i+1, emp[i], theo[i]))\n",
    "    print(\"\\n\")"
   ]
  },
  {
   "cell_type": "markdown",
   "metadata": {
    "collapsed": false
   },
   "source": [
    "# 4 Задача 1.2.15\n",
    "Нехай $\\Omega = {1, 2, \\ldots, 2n}$.\n",
    "Всiм числам приписанi ймовiрностi, пропорцiйнi логарифмам цих чисел.\n",
    "Знайти цi ймовiрностi.\n",
    "Знайти ймовiрнiсть того, що в результатi експерименту з’явиться:\n",
    "1. парне число;\n",
    "2. непарне число.\n",
    "\n",
    "Напишіть функцію для обрахунку еміричної (симулюванням $100000$ експериментів) імовірності в залежності від параметра $n$.\n",
    "Виведіть результат для\n",
    "- $n = 10$;\n",
    "- $n = 25$."
   ]
  },
  {
   "cell_type": "code",
   "execution_count": 2,
   "metadata": {
    "collapsed": false
   },
   "outputs": [
    {
     "name": "stdout",
     "output_type": "stream",
     "text": [
      "Analytic:\n",
      "0.4926359260141097\n",
      "0.5073640739858903\n",
      "\n",
      "Empiric:\n",
      "0.49882\n",
      "0.50118\n"
     ]
    }
   ],
   "source": [
    "# Місце для Вашого коду\n",
    "import math\n",
    "import random\n",
    "import numpy as np\n",
    "n = 25\n",
    "\n",
    "f = np.log(math.factorial(2*n)+0.0)\n",
    "\n",
    "p = [np.log(i)/f for i in range(1,2*n+1)]\n",
    "\n",
    "odd = sum([p[i] for i in range(0,2*n,2)])\n",
    "even = sum([p[i] for i in range(1,2*n+1,2)])\n",
    "\n",
    "print('Analytic:')\n",
    "print(odd)\n",
    "print(even)\n",
    "\n",
    "odd = 0\n",
    "even = 0\n",
    "\n",
    "for i in range(10**5):\n",
    "    if random.randint(1,2*n) %2 == 0:\n",
    "        even += 1\n",
    "    else:\n",
    "        odd += 1\n",
    "\n",
    "print('\\nEmpiric:')\n",
    "print(odd/10**5)\n",
    "print(even/10**5)\n"
   ]
  },
  {
   "cell_type": "code",
   "execution_count": 0,
   "metadata": {
    "collapsed": false
   },
   "outputs": [
   ],
   "source": [
   ]
  }
 ],
 "metadata": {
  "kernelspec": {
   "display_name": "Python 3 (Ubuntu Linux)",
   "language": "python",
   "name": "python3"
  },
  "language_info": {
   "codemirror_mode": {
    "name": "ipython",
    "version": 3
   },
   "file_extension": ".py",
   "mimetype": "text/x-python",
   "name": "python",
   "nbconvert_exporter": "python",
   "pygments_lexer": "ipython3",
   "version": "3.6.1"
  }
 },
 "nbformat": 4,
 "nbformat_minor": 0
}