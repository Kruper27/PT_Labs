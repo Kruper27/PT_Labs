{
 "cells": [
  {
   "cell_type": "markdown",
   "metadata": {
    "collapsed": false
   },
   "source": [
    "# Домашня робота №6"
   ]
  },
  {
   "cell_type": "markdown",
   "metadata": {
    "collapsed": false
   },
   "source": [
    "# Математичне сподівання та дисперсія"
   ]
  },
  {
   "cell_type": "markdown",
   "metadata": {
    "collapsed": false
   },
   "source": [
    "## 1 Порівняння"
   ]
  },
  {
   "cell_type": "markdown",
   "metadata": {
    "collapsed": false
   },
   "source": [
    "1. Реалізуйте функцію для підрахунку математичного сподівання випадкової величини $\\xi$, заданої в класі **scipy.stats**, усіма можливими способами:\n",
    "   - за допомогою методу **mean**;\n",
    "   - за допомогою методу **expect**;\n",
    "   - за допомогою методу **stats**.\n",
    "\n",
    "2. Реалізуйте функцію для підрахунку дисперсії випадкової величини $\\xi$, заданої в класі **scipy.stats**, усіма можливими способами:\n",
    "   - за допомогою методу **var**;\n",
    "   - за допомогою методу **expect** та формули для дисперсії \n",
    "$\\mathsf{D}(\\xi) = \\mathsf{E} \\left[ \\left( \\xi - \\mathsf{E}[\\xi] \\right)^2 \\right]$;\n",
    "   - за допомогою методу **expect** та формули для дисперсії\n",
    "$\\mathsf{D}(\\xi) = \\mathsf{E}[\\xi^2] - \\left( \\mathsf{E}[\\xi] \\right)^2$;\n",
    "   - за допомогою методу **stats**.\n",
    "\n",
    "3. Порахуйте математичне сподівання та дисперсію, використовуючи функції з пунктів **1., 2.**, і порівняйте (виведіть різницю) їх із теоретичними значеннями, використовуючи формули з лекцій, для таких випадкових величин:\n",
    "   - $\\xi \\sim Binom(10, 0.4)$ (біноміальний розподіл);\n",
    "   - $\\xi \\sim Geom(0.5)$ (геометричний розподіл);\n",
    "   - $\\xi \\sim Pois(0.6)$ (розподіл Пуассона);\n",
    "   - $\\xi \\sim NBinom(5, 0.4)$ (від'ємний біноміальний розподіл);\n",
    "   - $\\xi \\sim HGeom(20, 7, 12)$ (гіпергеометричний розподіл);\n",
    "   - $\\xi \\sim Unif(0, 1)$ (рівномірний розподіл);\n",
    "   - $\\xi \\sim Exp(0.5)$ (експоненційний (показниковий) розподіл);\n",
    "   - $\\xi \\sim N(0, 1)$ (нормальний розподіл);\n",
    "   - $\\xi \\sim \\Gamma(2)$ (гамма розподіл);\n",
    "   - $\\xi \\sim LogNorm(0, 1)$ (логнормальний розподіл);\n",
    "   - $\\xi \\sim B(2, 1.1)$ (бета розподіл)."
   ]
  },
  {
   "cell_type": "code",
   "execution_count": 15,
   "metadata": {
    "collapsed": false
   },
   "outputs": [
    {
     "name": "stdout",
     "output_type": "stream",
     "text": [
      "Binom \n",
      "\n",
      "4.0 4.0000000000000036 4.0\n",
      "2.4 2.4000000000000012 2.399999999999995 2.4\n",
      "\n",
      "\n",
      "Geom \n",
      "\n",
      "2.0 2.0 2.0\n",
      "2.0 2.0 2.0 2.0\n",
      "\n",
      "\n",
      "Pois \n",
      "\n",
      "0.6 0.6 0.6\n",
      "0.6 0.5999999999999999 0.6 0.6\n",
      "\n",
      "\n",
      "NBinom \n",
      "\n",
      "7.5 7.500000000000006 7.5\n",
      "18.75 18.750000000000007 18.749999999999964 18.75\n",
      "\n",
      "\n",
      "HGeom \n",
      "\n",
      "4.199999999999999 4.199999999999995 4.199999999999999\n",
      "1.1494736842105264 1.1494736842105246 1.149473684210541 1.1494736842105264\n",
      "\n",
      "\n",
      "Unif \n",
      "\n",
      "0.5 0.5 0.5\n",
      "0.08333333333333333 0.08333333333333333 0.08333333333333337 0.08333333333333333\n",
      "\n",
      "\n",
      "Exp \n",
      "\n"
     ]
    },
    {
     "name": "stdout",
     "output_type": "stream",
     "text": [
      "1.5 1.4999999999999996 1.5\n"
     ]
    },
    {
     "name": "stdout",
     "output_type": "stream",
     "text": [
      "1.0 1.0 1.0000000000000018 1.0\n",
      "\n",
      "\n",
      "N \n",
      "\n",
      "0.0 0.0 0.0\n"
     ]
    },
    {
     "name": "stdout",
     "output_type": "stream",
     "text": [
      "1.0 1.000000000000001 1.000000000000001 1.0\n",
      "\n",
      "\n",
      "Г \n",
      "\n",
      "2.0 2.0 2.0\n"
     ]
    },
    {
     "name": "stdout",
     "output_type": "stream",
     "text": [
      "2.0 2.0000000000000004 2.0 2.0\n",
      "\n",
      "\n",
      "LogNorm \n",
      "\n",
      "1.6487212707001282 1.6487212706999776 1.6487212707001282\n"
     ]
    },
    {
     "name": "stdout",
     "output_type": "stream",
     "text": [
      "4.670774270471604 4.670774270452187 4.670774270429307 4.670774270471604\n",
      "\n",
      "\n",
      "B \n",
      "\n",
      "0.6451612903225806 0.6451612903225803 0.6451612903225806\n"
     ]
    },
    {
     "name": "stdout",
     "output_type": "stream",
     "text": [
      "0.05583614629070329 0.055836146290680275 0.05583614629070349 0.05583614629070329\n",
      "\n",
      "\n"
     ]
    }
   ],
   "source": [
    "# Місце для Вашого коду\n",
    "from scipy.stats import binom, geom, poisson, nbinom, hypergeom, uniform, expon, norm, gamma, lognorm, beta\n",
    "\n",
    "List = {binom: ((10, 0.4), 'Binom'), geom: ((0.5,), 'Geom'), poisson: ((0.6, ), 'Pois'), nbinom: ((5, 0.4), 'NBinom'), hypergeom: ((20, 7, 12), 'HGeom'),\n",
    "      uniform: ((0, 1), 'Unif'), expon: ((0.5, ), 'Exp'), norm: ((0, 1), 'N'), gamma: ((2, ), 'Г'), lognorm: ((1, 0), 'LogNorm'), beta: ((2, 1.1), 'B')}\n",
    "\n",
    "def get_expects(test):\n",
    "    print(test.mean(), test.expect(), test.stats()[0])\n",
    "\n",
    "\n",
    "def get_variances(test):\n",
    "    sch1 = test.var()\n",
    "    sch2 = test.expect(lambda x: (x - test.expect()) ** 2)\n",
    "    sch3 = test.expect(lambda x: x ** 2) - (test.expect()) ** 2\n",
    "    sch4 = test.stats()[1]\n",
    "    print(sch1, sch2, sch3, sch4)\n",
    "\n",
    "for cls, (params, name) in List.items():\n",
    "    rv = cls(*params)\n",
    "    print(f'{name} \\n')\n",
    "    get_expects(rv)\n",
    "    get_variances(rv)\n",
    "    print('\\n')\n"
   ]
  },
  {
   "cell_type": "markdown",
   "metadata": {
    "collapsed": false
   },
   "source": [
    "## 2 Унікальні цифри"
   ]
  },
  {
   "cell_type": "markdown",
   "metadata": {
    "collapsed": false
   },
   "source": [
    "Нехай випадковим чином вибирають послідовно $n$ цифр (цифри можуть повторюватися, вибірка з поверненням).\n",
    "Нехай тоді випадкова величина $\\xi$ - це кількість унікальних цифр в отриманому наборі.\n",
    "\n",
    "Напишіть функцію для обрахунку математичного сподівання та дисперсії випадкової величини $\\xi$ в залежності від кількості $n$ цифр у наборі методом повного перебору.\n",
    "Виведіть результат для $n = 1, 2, 3, 4, 5, 6, 7.$"
   ]
  },
  {
   "cell_type": "code",
   "execution_count": 26,
   "metadata": {
    "collapsed": false
   },
   "outputs": [
    {
     "name": "stdout",
     "output_type": "stream",
     "text": [
      "n = 1 \n",
      " Exp: 1.0, Var: 0.0\n",
      "n = 2 \n",
      " Exp: 1.9000000000000001, Var: 0.08999999999999986\n",
      "n = 3 \n",
      " Exp: 2.71, Var: 0.22589999999999932\n",
      "n = 4 \n",
      " Exp: 3.439, Var: 0.37827899999999914\n"
     ]
    },
    {
     "name": "stdout",
     "output_type": "stream",
     "text": [
      "n = 5 \n",
      " Exp: 4.0951, Var: 0.5282559899999946\n"
     ]
    },
    {
     "name": "stdout",
     "output_type": "stream",
     "text": [
      "n = 6 \n",
      " Exp: 4.6855899999999995, Var: 0.6644163519000053\n"
     ]
    },
    {
     "name": "stdout",
     "output_type": "stream",
     "text": [
      "n = 7 \n",
      " Exp: 5.2170309999999995, Var: 0.7805445450390032\n"
     ]
    }
   ],
   "source": [
    "# Місце для Вашого коду\n",
    "\n",
    "from scipy.stats import rv_discrete\n",
    "from itertools import product\n",
    "import numpy as np\n",
    "\n",
    "def create_RV(n):\n",
    "    ress = []\n",
    "    tmp = np.arange(1, n+1)\n",
    "    for k in tmp:\n",
    "        count = 0\n",
    "        amount = 0\n",
    "        for el in product(range(10), repeat=n):\n",
    "            amount += 1\n",
    "            if len(set(el)) == k:\n",
    "                count += 1\n",
    "        ress.append(count / amount)\n",
    "    return rv_discrete(name = 'custm', values = (tmp, ress))\n",
    "\n",
    "for i in range(1, 8):\n",
    "    rv = create_RV(i)\n",
    "    print(f'n = {i} \\n Exp: {rv.expect()}, Var: {rv.var()}')"
   ]
  },
  {
   "cell_type": "markdown",
   "metadata": {
    "collapsed": false
   },
   "source": [
    "## 3 Максимальне значення"
   ]
  },
  {
   "cell_type": "markdown",
   "metadata": {
    "collapsed": false
   },
   "source": [
    "Нехай випадкова величина $\\xi$ - це максимальне значення після $n$ кидків грального кубика.\n",
    "\n",
    "Напишіть функцію для обрахунку математичного сподівання та дисперсії випадкової величини $\\xi$ в залежності від кількості $n$ кидків кубика методом повного перебору.\n",
    "Виведіть результат для $n = 1, 2, 3, 4, 5, 6, 7, 8, 9.$\n",
    "\n",
    "Напишіть теоретичну формулу для математичного сподівання та дисперсії випадкової величини $\\xi$.\n",
    "Порівняйте теоретичні значення з обчисленими повним перебором."
   ]
  },
  {
   "cell_type": "code",
   "execution_count": 6,
   "metadata": {
    "collapsed": false
   },
   "outputs": [
    {
     "name": "stdout",
     "output_type": "stream",
     "text": [
      "n = 1 \n",
      "teoretical: (array(3.5), array(2.91666667)), \n",
      "using full permute: (array(3.5), array(2.91666667))\n",
      "\n",
      "n = 2 \n",
      "teoretical: (array(4.47222222), array(1.97145062)), \n",
      "using full permute: (array(4.47222222), array(1.97145062))\n",
      "\n",
      "n = 3 \n",
      "teoretical: (array(4.95833333), array(1.30844907)), \n",
      "using full permute: (array(4.95833333), array(1.30844907))\n",
      "\n",
      "n = 4 \n",
      "teoretical: (array(5.24459877), array(0.91007885)), \n",
      "using full permute: (array(5.24459877), array(0.91007885))\n",
      "\n",
      "n = 5 \n",
      "teoretical: (array(5.43094136), array(0.65932555)), \n",
      "using full permute: (array(5.43094136), array(0.65932555))\n",
      "\n",
      "n = 6 \n",
      "teoretical: (array(5.56029235), array(0.49284974)), \n",
      "using full permute: (array(5.56029235), array(0.49284974))\n",
      "\n"
     ]
    },
    {
     "name": "stdout",
     "output_type": "stream",
     "text": [
      "n = 7 \n",
      "teoretical: (array(5.65411737), array(0.37732523)), \n",
      "using full permute: (array(5.65411737), array(0.37732523))\n",
      "\n"
     ]
    },
    {
     "name": "stdout",
     "output_type": "stream",
     "text": [
      "n = 8 \n",
      "teoretical: (array(5.72435426), array(0.29424631)), \n",
      "using full permute: (array(5.72435426), array(0.29424631))\n",
      "\n"
     ]
    },
    {
     "name": "stdout",
     "output_type": "stream",
     "text": [
      "n = 9 \n",
      "teoretical: (array(5.77817698), array(0.23276029)), \n",
      "using full permute: (array(5.77817698), array(0.23276029))\n",
      "\n"
     ]
    }
   ],
   "source": [
    "# Місце для Вашого коду\n",
    "\n",
    "\n",
    "def rv_teor(n):\n",
    "    xn = np.arange(1, 7)\n",
    "    pn = (xn**n - (xn - 1) ** n) / 6 ** n\n",
    "    return rv_discrete(name='cus', values=(xn, pn))\n",
    "\n",
    "\n",
    "def rv_full_permute(n):\n",
    "    ress = []\n",
    "    tmp = np.arange(1, 7)\n",
    "    for k in tmp:\n",
    "        count = 0\n",
    "        amount = 0\n",
    "        for el in product(tmp, repeat=n):\n",
    "            amount += 1\n",
    "            if max(el) == k:\n",
    "                count += 1\n",
    "        ress.append(count / amount)\n",
    "    return rv_discrete(name = 'cus1', values = (tmp, ress))\n",
    "\n",
    "\n",
    "for i in range(1, 10):\n",
    "    print(f'n = {i} \\nteoretical: {rv_teor(i).stats()}, \\nusing full permute: {rv_full_permute(i).stats()}\\n')"
   ]
  },
  {
   "cell_type": "markdown",
   "metadata": {
    "collapsed": false
   },
   "source": [
    "## 4 Сума значень"
   ]
  },
  {
   "cell_type": "markdown",
   "metadata": {
    "collapsed": false
   },
   "source": [
    "Нехай випадкова величина $\\xi$ - це сума значень після $n$ кидків грального кубика (сума цифр, що випали).\n",
    "\n",
    "Напишіть функцію для обрахунку математичного сподівання та дисперсії випадкової величини $\\xi$ в залежності від кількості $n$ кидків кубика методом повного перебору.\n",
    "Виведіть результат для $n = 1, 2, 3, 5, 7, 8.$\n",
    "\n",
    "Напишіть теоретичну формулу для математичного сподівання та дисперсії випадкової величини $\\xi$.\n",
    "Порівняйте теоретичні значення з обчисленими повним перебором."
   ]
  },
  {
   "cell_type": "code",
   "execution_count": 7,
   "metadata": {
    "collapsed": false
   },
   "outputs": [
    {
     "name": "stdout",
     "output_type": "stream",
     "text": [
      "n = 1 \n",
      " teor: (3.5, 2.9166666666666665) \n",
      " by full permute: (3.5, 2.916666666666666)\n",
      "\n",
      "n = 2 \n",
      " teor: (7.0, 5.833333333333333) \n",
      " by full permute: (6.999999999999999, 5.833333333333336)\n",
      "\n",
      "n = 3 \n",
      " teor: (10.5, 8.75) \n",
      " by full permute: (10.500000000000002, 8.749999999999972)\n",
      "\n",
      "n = 5 \n",
      " teor: (17.5, 14.583333333333332) \n",
      " by full permute: (17.5, 14.583333333333371)\n",
      "\n"
     ]
    },
    {
     "name": "stdout",
     "output_type": "stream",
     "text": [
      "n = 7 \n",
      " teor: (24.5, 20.416666666666664) \n",
      " by full permute: (24.5, 20.41666666666663)\n",
      "\n"
     ]
    },
    {
     "name": "stdout",
     "output_type": "stream",
     "text": [
      "n = 8 \n",
      " teor: (28.0, 23.333333333333332) \n",
      " by full permute: (28.000000000000007, 23.33333333333303)\n",
      "\n"
     ]
    }
   ],
   "source": [
    "# Місце для Вашого коду\n",
    "\n",
    "\n",
    "def teor(n):\n",
    "    return 3.5 * n, (35/12) * n\n",
    "\n",
    "def permute(n):\n",
    "    ress = []\n",
    "    tmp = np.arange(1, 6 * n + 1)\n",
    "    for k in tmp:\n",
    "        count = 0\n",
    "        amount = 0\n",
    "        for el in product(range(1,7), repeat=n):\n",
    "            amount += 1\n",
    "            if sum(el) == k:\n",
    "                count += 1\n",
    "        ress.append(count / amount)\n",
    "    expect = 0\n",
    "    var = 0\n",
    "    for i, pi in zip(tmp, ress):\n",
    "        expect += i * pi\n",
    "        var += i**2 * pi\n",
    "    return expect, var - expect**2\n",
    "\n",
    "\n",
    "for i in [1, 2, 3, 5, 7, 8]:\n",
    "    print(f'n = {i} \\n teor: {teor(i)} \\n by full permute: {permute(i)}\\n')"
   ]
  },
  {
   "cell_type": "markdown",
   "metadata": {
    "collapsed": false
   },
   "source": [
    "## 5 Парадокс днів народження"
   ]
  },
  {
   "cell_type": "markdown",
   "metadata": {
    "collapsed": false
   },
   "source": [
    "Нехай маємо $n$ людей.\n",
    "Їх дні народження припадають на один з 12 місяців.\n",
    "Нехай тоді випадкова величина $\\xi$ - це кількість співпадінь місяців народжень серед цих $n$ людей.\n",
    "\n",
    "Напишіть функцію для обрахунку математичного сподівання та дисперсії випадкової величини $\\xi$ в залежності від кількості $n$ людей методом повного перебору.\n",
    "Виведіть результат для $n = 1, 2, 3, 4, 5, 6.$\n",
    "\n",
    "Для якого $n$ виконується $\\mathsf{E}\\left[ \\xi \\right] \\geq 1$?\n",
    "\n",
    "**Зауваження.** Кількість співпадінь означає кількість однакових пар. Наприклад,\n",
    "- у наборі $\\{ 1, 1, 2, 3 \\}$ є одна пара;\n",
    "- у наборі $\\{ 1, 1, 1, 3 \\}$ є три пари;\n",
    "- у наборі $\\{ 1, 1, 1, 1 \\}$ є шість пар."
   ]
  },
  {
   "cell_type": "code",
   "execution_count": 25,
   "metadata": {
    "collapsed": false
   },
   "outputs": [
    {
     "name": "stdout",
     "output_type": "stream",
     "text": [
      "n = 1\n",
      " E = 0.0\n",
      " D = 0.0\n",
      "\n",
      "n = 2\n",
      " E = 0.07692307692307693\n",
      " D = 0.07100591715976332\n",
      "\n",
      "n = 3\n",
      " E = 0.23076923076923078\n",
      " D = 0.21301775147928997\n",
      "\n",
      "n = 4\n",
      " E = 0.4615384615384615\n",
      " D = 0.42603550295857995\n",
      "\n"
     ]
    },
    {
     "name": "stdout",
     "output_type": "stream",
     "text": [
      "n = 5\n",
      " E = 0.7692307692307694\n",
      " D = 0.7100591715976329\n",
      "\n"
     ]
    },
    {
     "name": "stdout",
     "output_type": "stream",
     "text": [
      "n = 6\n",
      " E = 1.1538461538461537\n",
      " D = 1.06508875739645\n",
      "\n",
      "n = 6, E = 1.1538461538461537 > 1\n",
      "\n"
     ]
    }
   ],
   "source": [
    "# Місце для Вашого коду\n",
    "\n",
    "def pair_count(a):\n",
    "    res = 0\n",
    "    for i in range(len(a) - 1):\n",
    "        for j in range(i + 1, len(a)):\n",
    "            if a[i] == a[j]:\n",
    "                res += 1\n",
    "    return res\n",
    "\n",
    "def get_all(n):\n",
    "    d = dict()\n",
    "    for i in product(range(13), repeat=n):\n",
    "        t = pair_count(i)\n",
    "        if t in d.keys():\n",
    "            d[t] += 1\n",
    "        else:\n",
    "            d[t] = 1\n",
    "    d[\"sum\"] = sum(d.values())\n",
    "    return d\n",
    "\n",
    "def P_ksi(n, tmp):\n",
    "    return tmp[n] / tmp[\"sum\"]\n",
    "\n",
    "def E(tmp):\n",
    "    return sum(x * P_ksi(x, tmp) for x in set(tmp.keys()).difference({\"sum\"}))\n",
    "\n",
    "def D(tmp1, E):\n",
    "    return sum(x** 2 * P_ksi(x, tmp1) for x in set(tmp1.keys()).difference({\"sum\"})) - E ** 2\n",
    "\n",
    "for i in range(1,7):\n",
    "    dt = get_all(i)\n",
    "    exp = E(dt)\n",
    "    Disp = D(dt, exp)\n",
    "    print(\"n = {}\\n E = {}\\n D = {}\\n\".format(i, exp, Disp))\n",
    "    if exp > 1:\n",
    "        print(\"n = {}, E = {} > 1\\n\".format(i,exp))"
   ]
  },
  {
   "cell_type": "code",
   "execution_count": 0,
   "metadata": {
    "collapsed": false
   },
   "outputs": [
   ],
   "source": [
   ]
  }
 ],
 "metadata": {
  "kernelspec": {
   "display_name": "Python 3 (Ubuntu Linux)",
   "language": "python",
   "metadata": {
    "cocalc": {
     "description": "Python 3 programming language",
     "priority": 100,
     "url": "https://www.python.org/"
    }
   },
   "name": "python3"
  },
  "language_info": {
   "codemirror_mode": {
    "name": "ipython",
    "version": 3
   },
   "file_extension": ".py",
   "mimetype": "text/x-python",
   "name": "python",
   "nbconvert_exporter": "python",
   "pygments_lexer": "ipython3",
   "version": "3.6.7"
  }
 },
 "nbformat": 4,
 "nbformat_minor": 0
}