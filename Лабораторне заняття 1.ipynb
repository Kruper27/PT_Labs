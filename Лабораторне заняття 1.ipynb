{
 "cells": [
  {
   "cell_type": "markdown",
   "metadata": {
    "collapsed": false
   },
   "source": [
    "# Лабораторне заняття №1"
   ]
  },
  {
   "cell_type": "markdown",
   "metadata": {
    "collapsed": false
   },
   "source": [
    "## 1 Перестановки"
   ]
  },
  {
   "cell_type": "markdown",
   "metadata": {
    "collapsed": false
   },
   "source": [
    "### 1.1 Використовуючи власну функцію"
   ]
  },
  {
   "cell_type": "code",
   "execution_count": 1,
   "metadata": {
    "collapsed": true
   },
   "outputs": [
   ],
   "source": [
    "def permute(A):\n",
    "    if len(A)==1:\n",
    "        return [tuple(A)]\n",
    "    permutations = []\n",
    "    for x in A:\n",
    "        for y in permute(A-{x}):\n",
    "            permutations.append((x,)+y)\n",
    "    return permutations"
   ]
  },
  {
   "cell_type": "code",
   "execution_count": 2,
   "metadata": {
    "collapsed": true
   },
   "outputs": [
   ],
   "source": [
    "A = {1, 2, 3}"
   ]
  },
  {
   "cell_type": "code",
   "execution_count": 9,
   "metadata": {
    "collapsed": false
   },
   "outputs": [
    {
     "name": "stdout",
     "output_type": "stream",
     "text": [
      "Перестановки множини {1, 2, 3}: {(3, 1, 2), (1, 3, 2), (3, 2, 1), (2, 3, 1), (1, 2, 3), (2, 1, 3)}\n",
      "Кількість перестановок:  6\n"
     ]
    }
   ],
   "source": [
    "# Використовуючи власну функцію\n",
    "permute_all = set(permute(A))\n",
    "print(\"Перестановки множини {}: {}\".format(A,permute_all))\n",
    "print(\"Кількість перестановок: \", len(permute_all))"
   ]
  },
  {
   "cell_type": "markdown",
   "metadata": {
    "collapsed": false
   },
   "source": [
    "### 1.2 Використовуючи бібліотеку `itertools`"
   ]
  },
  {
   "cell_type": "code",
   "execution_count": 4,
   "metadata": {
    "collapsed": true
   },
   "outputs": [
   ],
   "source": [
    "from itertools import permutations"
   ]
  },
  {
   "cell_type": "code",
   "execution_count": 0,
   "metadata": {
    "collapsed": true
   },
   "outputs": [
   ],
   "source": [
    "A = {1, 2, 3}"
   ]
  },
  {
   "cell_type": "code",
   "execution_count": 10,
   "metadata": {
    "collapsed": false
   },
   "outputs": [
    {
     "name": "stdout",
     "output_type": "stream",
     "text": [
      "Перестановки множини {1, 2, 3}: {(3, 1, 2), (1, 3, 2), (3, 2, 1), (2, 3, 1), (1, 2, 3), (2, 1, 3)}\n",
      "Кількість перестановок:  6\n"
     ]
    }
   ],
   "source": [
    "# Використовуючи бібліотеку itertools\n",
    "permute_all = set(permutations(A))\n",
    "print(\"Перестановки множини {}: {}\".format(A,permute_all))\n",
    "print(\"Кількість перестановок: \", len(permute_all))"
   ]
  },
  {
   "cell_type": "markdown",
   "metadata": {
    "collapsed": false
   },
   "source": [
    "### 1.3 Задача\n",
    "Виведіть всі можливі перестановки та порахуйте їх кількість від таких множин:\n",
    "- {1, 3, 5}\n",
    "- {1, 2, 3, 4}\n",
    "- {1, 2, 2, 1}\n",
    "\n",
    "Порахуйте кількість перестановок таких множин:\n",
    "- {1, 2, 3, 4, 5}\n",
    "- {1, 2, 3, 4, 5, 6, 7}\n",
    "- {1, 3, 5, 7, 9, 11, 13, 15, 17, 19}\n",
    "\n",
    "**Зауваження.** Спробуйте задати множину $\\{1, 2, 2, 1\\}$ у вигляді списку, тобто $A = [1, 2, 2, 1]$."
   ]
  },
  {
   "cell_type": "code",
   "execution_count": 3,
   "metadata": {
    "collapsed": false
   },
   "outputs": [
    {
     "name": "stdout",
     "output_type": "stream",
     "text": [
      "Перестановки множини {1, 3, 5}: {(3, 5, 1), (5, 3, 1), (1, 5, 3), (3, 1, 5), (1, 3, 5), (5, 1, 3)}\n",
      "Кількість перестановок: 6 \n",
      "Перестановки множини {1, 2, 3, 4}: {(4, 1, 2, 3), (1, 3, 2, 4), (3, 4, 1, 2), (1, 4, 2, 3), (4, 2, 3, 1), (2, 4, 1, 3), (4, 3, 1, 2), (2, 1, 3, 4), (3, 1, 4, 2), (3, 2, 4, 1), (1, 3, 4, 2), (1, 2, 4, 3), (2, 4, 3, 1), (3, 1, 2, 4), (4, 1, 3, 2), (2, 3, 1, 4), (4, 2, 1, 3), (1, 2, 3, 4), (1, 4, 3, 2), (3, 4, 2, 1), (2, 3, 4, 1), (4, 3, 2, 1), (3, 2, 1, 4), (2, 1, 4, 3)}\n",
      "Кількість перестановок: 24 \n",
      "Перестановки множини {1, 2}: {(1, 2), (2, 1)}\n",
      "Кількість перестановок: 2 \n",
      "{1, 2, 3, 4, 5}\n",
      "Кількість перестановок: 120 \n",
      "{1, 2, 3, 4, 5, 6, 7}\n",
      "Кількість перестановок: 5040 \n",
      "{1, 3, 5, 7, 9, 11, 13, 15, 17, 19}\n",
      "Кількість перестановок: 3628800 \n"
     ]
    }
   ],
   "source": [
    "# Місце для Вашого коду\n",
    "\n",
    "from itertools import permutations\n",
    "A = {1, 3, 5}\n",
    "B = {1, 2, 3, 4}\n",
    "C = {1, 2, 2, 1}\n",
    "D = {1, 2, 3, 4, 5}\n",
    "F = {1, 2, 3, 4, 5, 6, 7}\n",
    "G = {1, 3, 5, 7, 9, 11, 13, 15, 17, 19}\n",
    "list_1 = [A, B, C]\n",
    "list_2 = [D, F, G]\n",
    "for i in list_1:\n",
    "    permute_all = set(permutations(i))\n",
    "    print(\"Перестановки множини {}: {}\".format(i,permute_all))\n",
    "    print(\"Кількість перестановок: {} \".format(len(permute_all)))\n",
    "\n",
    "for i in list_2:\n",
    "    print(i)\n",
    "    permute_all = set(permutations(i))\n",
    "    print(\"Кількість перестановок: {} \".format(len(permute_all)))"
   ]
  },
  {
   "cell_type": "markdown",
   "metadata": {
    "collapsed": false
   },
   "source": [
    "### 1.4 Задача\n",
    "Виведіть всі можливі перестановки без нерухомих точок та порахуйте їх кількість від таких множин:\n",
    "- {1, 2, 3}\n",
    "- {1, 2, 3, 4}\n",
    "- {1, 3, 5, 7}\n",
    "- {1, 2, 2, 1}\n",
    "\n",
    "_Перестановка без нерухомих точок_ - це така перестановка, в якій позиція кожного елементу не збігається з його позицією в початковій множині.\n",
    "**Приклад.** Для множини {1, 2, 3, 4, 5}:\n",
    "- {4, 1, 5, 2, 3} - перестановка без нерухомих точок\n",
    "- {4, **2**, 1, 3, **5**} - перестановка з нерухомими точками"
   ]
  },
  {
   "cell_type": "code",
   "execution_count": 6,
   "metadata": {
    "collapsed": false
   },
   "outputs": [
    {
     "name": "stdout",
     "output_type": "stream",
     "text": [
      "Permutations\n",
      "{1, 2, 3} [(2, 3, 1), (3, 1, 2)]\n",
      "Permutations\n",
      "{1, 2, 3, 4} [(2, 1, 4, 3), (2, 3, 4, 1), (2, 4, 1, 3), (3, 1, 4, 2), (3, 4, 1, 2), (3, 4, 2, 1), (4, 1, 2, 3), (4, 3, 1, 2), (4, 3, 2, 1)]\n",
      "Permutations\n",
      "{1, 3, 5, 7} [(3, 1, 7, 5), (3, 5, 7, 1), (3, 7, 1, 5), (5, 1, 7, 3), (5, 7, 1, 3), (5, 7, 3, 1), (7, 1, 3, 5), (7, 5, 1, 3), (7, 5, 3, 1)]\n",
      "Permutations\n",
      "{1, 2} [(2, 1)]\n"
     ]
    }
   ],
   "source": [
    "# Місце для Вашого коду\n",
    "\n",
    "def anmove(elem):\n",
    "    def position(a):\n",
    "        return [i for i in enumerate(a)]\n",
    "\n",
    "    pos = position(elem)\n",
    "    perm = []\n",
    "\n",
    "    for i in permutations(elem):\n",
    "        tmp = True\n",
    "        for j in range(len(pos)):\n",
    "            if pos[j] in position(i):\n",
    "                tmp = False\n",
    "                break\n",
    "        if tmp:\n",
    "            perm.append(i)\n",
    "    return perm\n",
    "a = {1, 2, 3}\n",
    "b = {1, 2, 3, 4}\n",
    "c = {1, 3, 5, 7}\n",
    "d = {1, 2, 2, 1}\n",
    "res = [a, b, c, d]\n",
    "for i in res:\n",
    "    print(\"Permutations\")\n",
    "    print(i, anmove(i))\n"
   ]
  },
  {
   "cell_type": "markdown",
   "metadata": {
    "collapsed": false
   },
   "source": [
    "### 1.5 Задача\n",
    "Виведіть всі можливі перестановки, в яких перші $4$ елементи зростають, а наступні спадають, та порахуйте їх кількість від таких множин:\n",
    "- {1, 2, 3, 4, 5, 6, 7, 8}\n",
    "- {1, 2, 3, 4, 5, 6, 7, 8, 9, 10}\n",
    "\n",
    "**Зауваження.** Нехай перестановка\n",
    "$\\pi = \\left( \\sigma_1, \\sigma_2, \\sigma_3, \\sigma_4, \\sigma_5, \\sigma_6, \\sigma_7, \\sigma_8 \\right)$.\n",
    "Тоді має виконуватися така умова:\n",
    "$$\n",
    "  \\sigma_1 < \\sigma_2 < \\sigma_3 < \\sigma_4 > \\sigma_5 > \\sigma_6 > \\sigma_7 > \\sigma_8.\n",
    "$$"
   ]
  },
  {
   "cell_type": "code",
   "execution_count": 7,
   "metadata": {
    "collapsed": false
   },
   "outputs": [
    {
     "name": "stdout",
     "output_type": "stream",
     "text": [
      "\n",
      "We have  35 permutations for s [1, 2, 3, 4, 5, 6, 7, 8]:\n",
      "(1, 2, 3, 4, 8, 7, 6, 5)\n",
      "(1, 2, 3, 5, 8, 7, 6, 4)\n",
      "(1, 2, 3, 6, 8, 7, 5, 4)\n",
      "(1, 2, 3, 7, 8, 6, 5, 4)\n",
      "(1, 2, 4, 5, 8, 7, 6, 3)\n",
      "(1, 2, 4, 6, 8, 7, 5, 3)\n",
      "(1, 2, 4, 7, 8, 6, 5, 3)\n",
      "(1, 2, 5, 6, 8, 7, 4, 3)\n",
      "(1, 2, 5, 7, 8, 6, 4, 3)\n",
      "(1, 2, 6, 7, 8, 5, 4, 3)\n",
      "(1, 3, 4, 5, 8, 7, 6, 2)\n",
      "(1, 3, 4, 6, 8, 7, 5, 2)\n",
      "(1, 3, 4, 7, 8, 6, 5, 2)\n",
      "(1, 3, 5, 6, 8, 7, 4, 2)\n",
      "(1, 3, 5, 7, 8, 6, 4, 2)\n",
      "(1, 3, 6, 7, 8, 5, 4, 2)\n",
      "(1, 4, 5, 6, 8, 7, 3, 2)\n",
      "(1, 4, 5, 7, 8, 6, 3, 2)\n",
      "(1, 4, 6, 7, 8, 5, 3, 2)\n",
      "(1, 5, 6, 7, 8, 4, 3, 2)\n",
      "(2, 3, 4, 5, 8, 7, 6, 1)\n",
      "(2, 3, 4, 6, 8, 7, 5, 1)\n",
      "(2, 3, 4, 7, 8, 6, 5, 1)\n",
      "(2, 3, 5, 6, 8, 7, 4, 1)\n",
      "(2, 3, 5, 7, 8, 6, 4, 1)\n",
      "(2, 3, 6, 7, 8, 5, 4, 1)\n",
      "(2, 4, 5, 6, 8, 7, 3, 1)\n",
      "(2, 4, 5, 7, 8, 6, 3, 1)\n",
      "(2, 4, 6, 7, 8, 5, 3, 1)\n",
      "(2, 5, 6, 7, 8, 4, 3, 1)\n",
      "(3, 4, 5, 6, 8, 7, 2, 1)\n",
      "(3, 4, 5, 7, 8, 6, 2, 1)\n",
      "(3, 4, 6, 7, 8, 5, 2, 1)\n",
      "(3, 5, 6, 7, 8, 4, 2, 1)\n",
      "(4, 5, 6, 7, 8, 3, 2, 1)\n"
     ]
    },
    {
     "name": "stdout",
     "output_type": "stream",
     "text": [
      "\n",
      "We have  126 permutations for s [1, 2, 3, 4, 5, 6, 7, 8, 9, 10]:\n",
      "(1, 2, 3, 4, 10, 9, 8, 7, 6, 5)\n",
      "(1, 2, 3, 5, 10, 9, 8, 7, 6, 4)\n",
      "(1, 2, 3, 6, 10, 9, 8, 7, 5, 4)\n",
      "(1, 2, 3, 7, 10, 9, 8, 6, 5, 4)\n",
      "(1, 2, 3, 8, 10, 9, 7, 6, 5, 4)\n",
      "(1, 2, 3, 9, 10, 8, 7, 6, 5, 4)\n",
      "(1, 2, 4, 5, 10, 9, 8, 7, 6, 3)\n",
      "(1, 2, 4, 6, 10, 9, 8, 7, 5, 3)\n",
      "(1, 2, 4, 7, 10, 9, 8, 6, 5, 3)\n",
      "(1, 2, 4, 8, 10, 9, 7, 6, 5, 3)\n",
      "(1, 2, 4, 9, 10, 8, 7, 6, 5, 3)\n",
      "(1, 2, 5, 6, 10, 9, 8, 7, 4, 3)\n",
      "(1, 2, 5, 7, 10, 9, 8, 6, 4, 3)\n",
      "(1, 2, 5, 8, 10, 9, 7, 6, 4, 3)\n",
      "(1, 2, 5, 9, 10, 8, 7, 6, 4, 3)\n",
      "(1, 2, 6, 7, 10, 9, 8, 5, 4, 3)\n",
      "(1, 2, 6, 8, 10, 9, 7, 5, 4, 3)\n",
      "(1, 2, 6, 9, 10, 8, 7, 5, 4, 3)\n",
      "(1, 2, 7, 8, 10, 9, 6, 5, 4, 3)\n",
      "(1, 2, 7, 9, 10, 8, 6, 5, 4, 3)\n",
      "(1, 2, 8, 9, 10, 7, 6, 5, 4, 3)\n",
      "(1, 3, 4, 5, 10, 9, 8, 7, 6, 2)\n",
      "(1, 3, 4, 6, 10, 9, 8, 7, 5, 2)\n",
      "(1, 3, 4, 7, 10, 9, 8, 6, 5, 2)\n",
      "(1, 3, 4, 8, 10, 9, 7, 6, 5, 2)\n",
      "(1, 3, 4, 9, 10, 8, 7, 6, 5, 2)\n",
      "(1, 3, 5, 6, 10, 9, 8, 7, 4, 2)\n",
      "(1, 3, 5, 7, 10, 9, 8, 6, 4, 2)\n",
      "(1, 3, 5, 8, 10, 9, 7, 6, 4, 2)\n",
      "(1, 3, 5, 9, 10, 8, 7, 6, 4, 2)\n",
      "(1, 3, 6, 7, 10, 9, 8, 5, 4, 2)\n",
      "(1, 3, 6, 8, 10, 9, 7, 5, 4, 2)\n",
      "(1, 3, 6, 9, 10, 8, 7, 5, 4, 2)\n",
      "(1, 3, 7, 8, 10, 9, 6, 5, 4, 2)\n",
      "(1, 3, 7, 9, 10, 8, 6, 5, 4, 2)\n",
      "(1, 3, 8, 9, 10, 7, 6, 5, 4, 2)\n",
      "(1, 4, 5, 6, 10, 9, 8, 7, 3, 2)\n",
      "(1, 4, 5, 7, 10, 9, 8, 6, 3, 2)\n",
      "(1, 4, 5, 8, 10, 9, 7, 6, 3, 2)\n",
      "(1, 4, 5, 9, 10, 8, 7, 6, 3, 2)\n",
      "(1, 4, 6, 7, 10, 9, 8, 5, 3, 2)\n",
      "(1, 4, 6, 8, 10, 9, 7, 5, 3, 2)\n",
      "(1, 4, 6, 9, 10, 8, 7, 5, 3, 2)\n",
      "(1, 4, 7, 8, 10, 9, 6, 5, 3, 2)\n",
      "(1, 4, 7, 9, 10, 8, 6, 5, 3, 2)\n",
      "(1, 4, 8, 9, 10, 7, 6, 5, 3, 2)\n",
      "(1, 5, 6, 7, 10, 9, 8, 4, 3, 2)\n",
      "(1, 5, 6, 8, 10, 9, 7, 4, 3, 2)\n",
      "(1, 5, 6, 9, 10, 8, 7, 4, 3, 2)\n",
      "(1, 5, 7, 8, 10, 9, 6, 4, 3, 2)\n",
      "(1, 5, 7, 9, 10, 8, 6, 4, 3, 2)\n",
      "(1, 5, 8, 9, 10, 7, 6, 4, 3, 2)\n",
      "(1, 6, 7, 8, 10, 9, 5, 4, 3, 2)\n",
      "(1, 6, 7, 9, 10, 8, 5, 4, 3, 2)\n",
      "(1, 6, 8, 9, 10, 7, 5, 4, 3, 2)\n",
      "(1, 7, 8, 9, 10, 6, 5, 4, 3, 2)\n",
      "(2, 3, 4, 5, 10, 9, 8, 7, 6, 1)\n",
      "(2, 3, 4, 6, 10, 9, 8, 7, 5, 1)\n",
      "(2, 3, 4, 7, 10, 9, 8, 6, 5, 1)\n",
      "(2, 3, 4, 8, 10, 9, 7, 6, 5, 1)\n",
      "(2, 3, 4, 9, 10, 8, 7, 6, 5, 1)\n",
      "(2, 3, 5, 6, 10, 9, 8, 7, 4, 1)\n",
      "(2, 3, 5, 7, 10, 9, 8, 6, 4, 1)\n",
      "(2, 3, 5, 8, 10, 9, 7, 6, 4, 1)\n",
      "(2, 3, 5, 9, 10, 8, 7, 6, 4, 1)\n",
      "(2, 3, 6, 7, 10, 9, 8, 5, 4, 1)\n",
      "(2, 3, 6, 8, 10, 9, 7, 5, 4, 1)\n",
      "(2, 3, 6, 9, 10, 8, 7, 5, 4, 1)\n",
      "(2, 3, 7, 8, 10, 9, 6, 5, 4, 1)\n",
      "(2, 3, 7, 9, 10, 8, 6, 5, 4, 1)\n",
      "(2, 3, 8, 9, 10, 7, 6, 5, 4, 1)\n",
      "(2, 4, 5, 6, 10, 9, 8, 7, 3, 1)\n",
      "(2, 4, 5, 7, 10, 9, 8, 6, 3, 1)\n",
      "(2, 4, 5, 8, 10, 9, 7, 6, 3, 1)\n",
      "(2, 4, 5, 9, 10, 8, 7, 6, 3, 1)\n",
      "(2, 4, 6, 7, 10, 9, 8, 5, 3, 1)\n",
      "(2, 4, 6, 8, 10, 9, 7, 5, 3, 1)\n",
      "(2, 4, 6, 9, 10, 8, 7, 5, 3, 1)\n",
      "(2, 4, 7, 8, 10, 9, 6, 5, 3, 1)\n",
      "(2, 4, 7, 9, 10, 8, 6, 5, 3, 1)\n",
      "(2, 4, 8, 9, 10, 7, 6, 5, 3, 1)\n",
      "(2, 5, 6, 7, 10, 9, 8, 4, 3, 1)\n",
      "(2, 5, 6, 8, 10, 9, 7, 4, 3, 1)\n",
      "(2, 5, 6, 9, 10, 8, 7, 4, 3, 1)\n",
      "(2, 5, 7, 8, 10, 9, 6, 4, 3, 1)\n",
      "(2, 5, 7, 9, 10, 8, 6, 4, 3, 1)\n",
      "(2, 5, 8, 9, 10, 7, 6, 4, 3, 1)\n",
      "(2, 6, 7, 8, 10, 9, 5, 4, 3, 1)\n",
      "(2, 6, 7, 9, 10, 8, 5, 4, 3, 1)\n",
      "(2, 6, 8, 9, 10, 7, 5, 4, 3, 1)\n",
      "(2, 7, 8, 9, 10, 6, 5, 4, 3, 1)\n",
      "(3, 4, 5, 6, 10, 9, 8, 7, 2, 1)\n",
      "(3, 4, 5, 7, 10, 9, 8, 6, 2, 1)\n",
      "(3, 4, 5, 8, 10, 9, 7, 6, 2, 1)\n",
      "(3, 4, 5, 9, 10, 8, 7, 6, 2, 1)\n",
      "(3, 4, 6, 7, 10, 9, 8, 5, 2, 1)\n",
      "(3, 4, 6, 8, 10, 9, 7, 5, 2, 1)\n",
      "(3, 4, 6, 9, 10, 8, 7, 5, 2, 1)\n",
      "(3, 4, 7, 8, 10, 9, 6, 5, 2, 1)\n",
      "(3, 4, 7, 9, 10, 8, 6, 5, 2, 1)\n",
      "(3, 4, 8, 9, 10, 7, 6, 5, 2, 1)\n",
      "(3, 5, 6, 7, 10, 9, 8, 4, 2, 1)\n",
      "(3, 5, 6, 8, 10, 9, 7, 4, 2, 1)\n",
      "(3, 5, 6, 9, 10, 8, 7, 4, 2, 1)\n",
      "(3, 5, 7, 8, 10, 9, 6, 4, 2, 1)\n",
      "(3, 5, 7, 9, 10, 8, 6, 4, 2, 1)\n",
      "(3, 5, 8, 9, 10, 7, 6, 4, 2, 1)\n",
      "(3, 6, 7, 8, 10, 9, 5, 4, 2, 1)\n",
      "(3, 6, 7, 9, 10, 8, 5, 4, 2, 1)\n",
      "(3, 6, 8, 9, 10, 7, 5, 4, 2, 1)\n",
      "(3, 7, 8, 9, 10, 6, 5, 4, 2, 1)\n",
      "(4, 5, 6, 7, 10, 9, 8, 3, 2, 1)\n",
      "(4, 5, 6, 8, 10, 9, 7, 3, 2, 1)\n",
      "(4, 5, 6, 9, 10, 8, 7, 3, 2, 1)\n",
      "(4, 5, 7, 8, 10, 9, 6, 3, 2, 1)\n",
      "(4, 5, 7, 9, 10, 8, 6, 3, 2, 1)\n",
      "(4, 5, 8, 9, 10, 7, 6, 3, 2, 1)\n",
      "(4, 6, 7, 8, 10, 9, 5, 3, 2, 1)\n",
      "(4, 6, 7, 9, 10, 8, 5, 3, 2, 1)\n",
      "(4, 6, 8, 9, 10, 7, 5, 3, 2, 1)\n",
      "(4, 7, 8, 9, 10, 6, 5, 3, 2, 1)\n",
      "(5, 6, 7, 8, 10, 9, 4, 3, 2, 1)\n",
      "(5, 6, 7, 9, 10, 8, 4, 3, 2, 1)\n",
      "(5, 6, 8, 9, 10, 7, 4, 3, 2, 1)\n",
      "(5, 7, 8, 9, 10, 6, 4, 3, 2, 1)\n",
      "(6, 7, 8, 9, 10, 5, 4, 3, 2, 1)\n"
     ]
    }
   ],
   "source": [
    "# Місце для Вашого коду\n",
    "from itertools import permutations\n",
    "\n",
    "\n",
    "def check(s):\n",
    "    for i in range(1, 5):\n",
    "        if s[i-1] > s[i]:\n",
    "            return True\n",
    "def check1(s):\n",
    "    for i in range(5, len(s)):\n",
    "        if s[i-1] < s[i]:\n",
    "            return True\n",
    "\n",
    "sets = [[1, 2, 3, 4, 5, 6, 7, 8], [1, 2, 3, 4, 5, 6, 7, 8, 9, 10]]\n",
    "\n",
    "for s in sets:\n",
    "    res = []\n",
    "    p = permutations(s)\n",
    "    for i in p:\n",
    "        if  not(check(i)) and not(check1(i)):\n",
    "            res.append(i)\n",
    "    print(\"\\nWe have  {} permutations for s {}:\".format(len(res),s))\n",
    "    for r in res:\n",
    "        print(r)\n"
   ]
  },
  {
   "cell_type": "markdown",
   "metadata": {
    "collapsed": false
   },
   "source": [
    "## 2 Часткові перестановки"
   ]
  },
  {
   "cell_type": "markdown",
   "metadata": {
    "collapsed": false
   },
   "source": [
    "### 2.1 Використовуючи бібліотеку `itertools`"
   ]
  },
  {
   "cell_type": "code",
   "execution_count": 12,
   "metadata": {
    "collapsed": true
   },
   "outputs": [
   ],
   "source": [
    "A = {1, 2, 3}\n",
    "k = 2"
   ]
  },
  {
   "cell_type": "code",
   "execution_count": 14,
   "metadata": {
    "collapsed": false
   },
   "outputs": [
    {
     "name": "stdout",
     "output_type": "stream",
     "text": [
      "Перестановки довжини 2 множини {1, 2, 3}: [(1, 2), (1, 3), (2, 1), (2, 3), (3, 1), (3, 2)]\n",
      "Кількість таких перестановок: 6\n"
     ]
    }
   ],
   "source": [
    "# перестановки довжини k множини A\n",
    "permute_k = list(permutations(A, k))\n",
    "print(\"Перестановки довжини {} множини {}: {}\".format(k,A,permute_k))\n",
    "print(\"Кількість таких перестановок: {}\".format(len(permute_k)))"
   ]
  },
  {
   "cell_type": "markdown",
   "metadata": {
    "collapsed": false
   },
   "source": [
    "### 2.2 Задача\n",
    "Нехай $n$ - розмір множини, $k$ - розмір перестановок.\n",
    "Виведіть всі можливі часткові перестановки та порахуйте їх кількість для таких параметрів:\n",
    "- $n = 4, k = 2$\n",
    "- $n = 4, k = 3$\n",
    "- $n = 5, k = 2$\n",
    "\n",
    "Порахуйте кількість часткових перестановок для таких параметрів:\n",
    "- $n = 6, k = 2$\n",
    "- $n = 6, k = 4$\n",
    "- $n = 8, k = 4$"
   ]
  },
  {
   "cell_type": "code",
   "execution_count": 10,
   "metadata": {
    "collapsed": false
   },
   "outputs": [
    {
     "name": "stdout",
     "output_type": "stream",
     "text": [
      "\n",
      "all possible permutaions of [1, 2, 3, 4] with 2 elements:\n",
      "amount = 12\n",
      "\n",
      "all possible permutaions of [1, 2, 3, 4] with 3 elements:\n",
      "amount = 24\n",
      "\n",
      "all possible permutaions of [1, 2, 3, 4, 5] with 2 elements:\n",
      "amount = 20\n",
      "\n",
      "amount of  permutaions of [1, 2, 3, 4, 5, 6] with 2 elements:\n",
      "30\n",
      "\n",
      "amount of  permutaions of [1, 2, 3, 4, 5, 6] with 4 elements:\n",
      "360\n",
      "\n",
      "amount of  permutaions of [1, 2, 3, 4, 5, 6, 7, 8] with 4 elements:\n",
      "1680\n"
     ]
    }
   ],
   "source": [
    "# Місце для Вашого коду\n",
    "for n, k in [(4, 2), (4, 3), (5, 2)]:\n",
    "    print(\"\\nall possible permutaions of {} with {} elements:\".format(list(range(1, n+1)), k))\n",
    "    tmp = set(permutations(range(1, n+1), k))\n",
    "    print(tmp)\n",
    "    print(\"amount =\", len(tmp))\n",
    "\n",
    "\n",
    "for n, k in [(6, 2), (6, 4), (8, 4)]:\n",
    "    print(\"\\namount of  permutaions of {} with {} elements:\".format(list(range(1, n+1)), k))\n",
    "    tmp = set(permutations(range(1, n+1), k))\n",
    "    print(len(tmp))\n"
   ]
  },
  {
   "cell_type": "markdown",
   "metadata": {
    "collapsed": false
   },
   "source": [
    "## 3 Комбінації без повторень"
   ]
  },
  {
   "cell_type": "markdown",
   "metadata": {
    "collapsed": false
   },
   "source": [
    "### 3.1 Використовуючи бібліотеку `itertools`"
   ]
  },
  {
   "cell_type": "code",
   "execution_count": 16,
   "metadata": {
    "collapsed": true
   },
   "outputs": [
   ],
   "source": [
    "from itertools import combinations"
   ]
  },
  {
   "cell_type": "code",
   "execution_count": 18,
   "metadata": {
    "collapsed": true
   },
   "outputs": [
   ],
   "source": [
    "A = {1, 2, 3}\n",
    "k = 2"
   ]
  },
  {
   "cell_type": "code",
   "execution_count": 19,
   "metadata": {
    "collapsed": false
   },
   "outputs": [
    {
     "name": "stdout",
     "output_type": "stream",
     "text": [
      "Комбінації довжини 2 множини {1, 2, 3}: [(1, 2), (1, 3), (2, 3)]\n",
      "Кількість таких комбінацій: 3\n"
     ]
    }
   ],
   "source": [
    "# комбінації довжини k множини A\n",
    "choose_k = list(combinations(A,k))\n",
    "print(\"Комбінації довжини {} множини {}: {}\".format(k,A,choose_k))\n",
    "print(\"Кількість таких комбінацій: {}\".format(len(choose_k)  ))"
   ]
  },
  {
   "cell_type": "markdown",
   "metadata": {
    "collapsed": false
   },
   "source": [
    "### 3.2 Задача\n",
    "Нехай $n$ - розмір множини, $k$ - розмір комбінацій.\n",
    "Виведіть всі можливі комбінації без повторень та порахуйте їх кількість для таких параметрів:\n",
    "- $n = 4, k = 2$\n",
    "- $n = 4, k = 3$\n",
    "- $n = 5, k = 2$\n",
    "\n",
    "Порахуйте кількість комбінацій без повторень для таких параметрів:\n",
    "- $n = 6, k = 2$\n",
    "- $n = 6, k = 4$\n",
    "- $n = 8, k = 4$"
   ]
  },
  {
   "cell_type": "code",
   "execution_count": 11,
   "metadata": {
    "collapsed": false
   },
   "outputs": [
    {
     "name": "stdout",
     "output_type": "stream",
     "text": [
      "\n",
      "Case n = 4, k = 2, there are 6 combinations:\n",
      "(1, 2)\n",
      "(1, 3)\n",
      "(1, 4)\n",
      "(2, 3)\n",
      "(2, 4)\n",
      "(3, 4)\n",
      "\n",
      "Case n = 4, k = 3, there are 4 combinations:\n",
      "(1, 2, 3)\n",
      "(1, 2, 4)\n",
      "(1, 3, 4)\n",
      "(2, 3, 4)\n",
      "\n",
      "Case n = 5, k = 2, there are 10 combinations:\n",
      "(1, 2)\n",
      "(1, 3)\n",
      "(1, 4)\n",
      "(1, 5)\n",
      "(2, 3)\n",
      "(2, 4)\n",
      "(2, 5)\n",
      "(3, 4)\n",
      "(3, 5)\n",
      "(4, 5)\n",
      "\n",
      "Case n = 6, k = 2, there are 15 combinations:\n",
      "\n",
      "Case n = 6, k = 4, there are 15 combinations:\n",
      "\n",
      "Case n = 8, k = 4, there are 70 combinations:\n"
     ]
    }
   ],
   "source": [
    "# Місце для Вашого коду\n",
    "from itertools import combinations\n",
    "\n",
    "list_1 = [[4,2], [4,3], [5,2]]\n",
    "list_2 = [[6,2],[6,4],[8,4]]\n",
    "for i, j in list_1:\n",
    "    c = combinations(range(1, i+1), j)\n",
    "    a = list(c)\n",
    "    print(\"\\nCase n = {}, k = {}, there are {} combinations:\".format(i, j, len(a)))\n",
    "    for k in a:\n",
    "           print(k)\n",
    "\n",
    "for i, j in list_2:\n",
    "    c = combinations(range(1, i+1), j)\n",
    "    a = list(c)\n",
    "    print(\"\\nCase n = {}, k = {}, there are {} combinations:\".format(i, j, len(a)))\n"
   ]
  },
  {
   "cell_type": "markdown",
   "metadata": {
    "collapsed": false
   },
   "source": [
    "### 3.3 Задача\n",
    "Нехай $A$ - множина з $10$ елементів, кожен з яких є цілим числом від $1$ до $25$.\n",
    "Тобто $$A = \\{ a_i \\}_{i = 1}^{10},\\\\ 1 \\leq a_i \\leq 25, \\quad i = 1, \\ldots, 10.$$\n",
    "Скільки елементів може бути в множині, яка складається із попарних сум елементів множини $A$?\n",
    "$$B = \\{ b_k \\, \\colon \\, b_k = a_i + a_j, \\quad a_i, a_j \\in A, \\, 1 \\leq i, j \\leq 10, \\, i \\neq j \\}_{k = 1}^{\\textbf{?}}$$"
   ]
  },
  {
   "cell_type": "code",
   "execution_count": 13,
   "metadata": {
    "collapsed": false
   },
   "outputs": [
    {
     "ename": "KeyboardInterrupt",
     "evalue": "",
     "output_type": "error",
     "traceback": [
      "\u001b[0;31m---------------------------------------------------------------------------\u001b[0m",
      "\u001b[0;31mKeyboardInterrupt\u001b[0m                         Traceback (most recent call last)",
      "\u001b[0;32m<ipython-input-13-920fda16af3b>\u001b[0m in \u001b[0;36m<module>\u001b[0;34m()\u001b[0m\n\u001b[1;32m      2\u001b[0m \u001b[0mused\u001b[0m \u001b[0;34m=\u001b[0m \u001b[0mset\u001b[0m\u001b[0;34m(\u001b[0m\u001b[0;34m)\u001b[0m\u001b[0;34m\u001b[0m\u001b[0;34m\u001b[0m\u001b[0m\n\u001b[1;32m      3\u001b[0m \u001b[0;32mfor\u001b[0m \u001b[0mtmp\u001b[0m \u001b[0;32min\u001b[0m \u001b[0mpermutations\u001b[0m\u001b[0;34m(\u001b[0m\u001b[0mrange\u001b[0m\u001b[0;34m(\u001b[0m\u001b[0;36m1\u001b[0m\u001b[0;34m,\u001b[0m \u001b[0;36m26\u001b[0m\u001b[0;34m)\u001b[0m\u001b[0;34m,\u001b[0m \u001b[0;36m10\u001b[0m\u001b[0;34m)\u001b[0m\u001b[0;34m:\u001b[0m\u001b[0;34m\u001b[0m\u001b[0;34m\u001b[0m\u001b[0m\n\u001b[0;32m----> 4\u001b[0;31m     \u001b[0mtmp\u001b[0m \u001b[0;34m=\u001b[0m \u001b[0mfrozenset\u001b[0m\u001b[0;34m(\u001b[0m\u001b[0;34m[\u001b[0m\u001b[0mtmp\u001b[0m\u001b[0;34m[\u001b[0m\u001b[0mi\u001b[0m\u001b[0;34m]\u001b[0m \u001b[0;34m+\u001b[0m \u001b[0mtmp\u001b[0m\u001b[0;34m[\u001b[0m\u001b[0mj\u001b[0m\u001b[0;34m]\u001b[0m \u001b[0;32mfor\u001b[0m \u001b[0mi\u001b[0m \u001b[0;32min\u001b[0m \u001b[0mrange\u001b[0m\u001b[0;34m(\u001b[0m\u001b[0;36m10\u001b[0m\u001b[0;34m)\u001b[0m \u001b[0;32mfor\u001b[0m \u001b[0mj\u001b[0m \u001b[0;32min\u001b[0m \u001b[0mrange\u001b[0m\u001b[0;34m(\u001b[0m\u001b[0;36m10\u001b[0m\u001b[0;34m)\u001b[0m \u001b[0;32mif\u001b[0m \u001b[0mi\u001b[0m \u001b[0;34m!=\u001b[0m \u001b[0mj\u001b[0m\u001b[0;34m]\u001b[0m\u001b[0;34m)\u001b[0m\u001b[0;34m\u001b[0m\u001b[0;34m\u001b[0m\u001b[0m\n\u001b[0m\u001b[1;32m      5\u001b[0m     \u001b[0mused\u001b[0m\u001b[0;34m.\u001b[0m\u001b[0madd\u001b[0m\u001b[0;34m(\u001b[0m\u001b[0mlen\u001b[0m\u001b[0;34m(\u001b[0m\u001b[0mtmp\u001b[0m\u001b[0;34m)\u001b[0m\u001b[0;34m)\u001b[0m\u001b[0;34m\u001b[0m\u001b[0;34m\u001b[0m\u001b[0m\n\u001b[1;32m      6\u001b[0m \u001b[0;34m\u001b[0m\u001b[0m\n",
      "\u001b[0;32m<ipython-input-13-920fda16af3b>\u001b[0m in \u001b[0;36m<listcomp>\u001b[0;34m(.0)\u001b[0m\n\u001b[1;32m      2\u001b[0m \u001b[0mused\u001b[0m \u001b[0;34m=\u001b[0m \u001b[0mset\u001b[0m\u001b[0;34m(\u001b[0m\u001b[0;34m)\u001b[0m\u001b[0;34m\u001b[0m\u001b[0;34m\u001b[0m\u001b[0m\n\u001b[1;32m      3\u001b[0m \u001b[0;32mfor\u001b[0m \u001b[0mtmp\u001b[0m \u001b[0;32min\u001b[0m \u001b[0mpermutations\u001b[0m\u001b[0;34m(\u001b[0m\u001b[0mrange\u001b[0m\u001b[0;34m(\u001b[0m\u001b[0;36m1\u001b[0m\u001b[0;34m,\u001b[0m \u001b[0;36m26\u001b[0m\u001b[0;34m)\u001b[0m\u001b[0;34m,\u001b[0m \u001b[0;36m10\u001b[0m\u001b[0;34m)\u001b[0m\u001b[0;34m:\u001b[0m\u001b[0;34m\u001b[0m\u001b[0;34m\u001b[0m\u001b[0m\n\u001b[0;32m----> 4\u001b[0;31m     \u001b[0mtmp\u001b[0m \u001b[0;34m=\u001b[0m \u001b[0mfrozenset\u001b[0m\u001b[0;34m(\u001b[0m\u001b[0;34m[\u001b[0m\u001b[0mtmp\u001b[0m\u001b[0;34m[\u001b[0m\u001b[0mi\u001b[0m\u001b[0;34m]\u001b[0m \u001b[0;34m+\u001b[0m \u001b[0mtmp\u001b[0m\u001b[0;34m[\u001b[0m\u001b[0mj\u001b[0m\u001b[0;34m]\u001b[0m \u001b[0;32mfor\u001b[0m \u001b[0mi\u001b[0m \u001b[0;32min\u001b[0m \u001b[0mrange\u001b[0m\u001b[0;34m(\u001b[0m\u001b[0;36m10\u001b[0m\u001b[0;34m)\u001b[0m \u001b[0;32mfor\u001b[0m \u001b[0mj\u001b[0m \u001b[0;32min\u001b[0m \u001b[0mrange\u001b[0m\u001b[0;34m(\u001b[0m\u001b[0;36m10\u001b[0m\u001b[0;34m)\u001b[0m \u001b[0;32mif\u001b[0m \u001b[0mi\u001b[0m \u001b[0;34m!=\u001b[0m \u001b[0mj\u001b[0m\u001b[0;34m]\u001b[0m\u001b[0;34m)\u001b[0m\u001b[0;34m\u001b[0m\u001b[0;34m\u001b[0m\u001b[0m\n\u001b[0m\u001b[1;32m      5\u001b[0m     \u001b[0mused\u001b[0m\u001b[0;34m.\u001b[0m\u001b[0madd\u001b[0m\u001b[0;34m(\u001b[0m\u001b[0mlen\u001b[0m\u001b[0;34m(\u001b[0m\u001b[0mtmp\u001b[0m\u001b[0;34m)\u001b[0m\u001b[0;34m)\u001b[0m\u001b[0;34m\u001b[0m\u001b[0;34m\u001b[0m\u001b[0m\n\u001b[1;32m      6\u001b[0m \u001b[0;34m\u001b[0m\u001b[0m\n",
      "\u001b[0;31mKeyboardInterrupt\u001b[0m: "
     ]
    }
   ],
   "source": [
    "# Місце для Вашого коду\n",
    "used = set()\n",
    "for tmp in permutations(range(1, 26), 10):\n",
    "    tmp = frozenset([tmp[i] + tmp[j] for i in range(10) for j in range(10) if i != j])\n",
    "    used.add(len(tmp))\n",
    "\n",
    "print(used)"
   ]
  },
  {
   "cell_type": "markdown",
   "metadata": {
    "collapsed": false
   },
   "source": [
    "## 4 Комбінації з повтореннями"
   ]
  },
  {
   "cell_type": "markdown",
   "metadata": {
    "collapsed": false
   },
   "source": [
    "### 4.1 Використовуючи бібліотеку `itertools`"
   ]
  },
  {
   "cell_type": "code",
   "execution_count": 22,
   "metadata": {
    "collapsed": true
   },
   "outputs": [
   ],
   "source": [
    "from itertools import combinations_with_replacement"
   ]
  },
  {
   "cell_type": "code",
   "execution_count": 21,
   "metadata": {
    "collapsed": true
   },
   "outputs": [
   ],
   "source": [
    "A = {1, 2, 3}\n",
    "k = 2"
   ]
  },
  {
   "cell_type": "code",
   "execution_count": 23,
   "metadata": {
    "collapsed": false
   },
   "outputs": [
    {
     "name": "stdout",
     "output_type": "stream",
     "text": [
      "Комбінації довжини 2 множини {1, 2, 3}: [(1, 1), (1, 2), (1, 3), (2, 2), (2, 3), (3, 3)]\n",
      "Кількість таких комбінацій: 6\n"
     ]
    }
   ],
   "source": [
    "# комбінації довжини k множини A\n",
    "choose_k = list(combinations_with_replacement(A,k))\n",
    "print(\"Комбінації довжини {} множини {}: {}\".format(k,A,choose_k))\n",
    "print(\"Кількість таких комбінацій: {}\".format(len(choose_k)  ))"
   ]
  },
  {
   "cell_type": "markdown",
   "metadata": {
    "collapsed": false
   },
   "source": [
    "### 4.2 Задача\n",
    "Нехай $n$ - розмір множини, $k$ - розмір комбінацій.\n",
    "Виведіть всі можливі комбінації з повтореннями та порахуйте їх кількість для таких параметрів:\n",
    "- $n = 4, k = 2$\n",
    "- $n = 4, k = 3$\n",
    "- $n = 5, k = 2$\n",
    "\n",
    "Порахуйте кількість комбінацій з повтореннями для таких параметрів:\n",
    "- $n = 6, k = 2$\n",
    "- $n = 6, k = 4$\n",
    "- $n = 8, k = 4$"
   ]
  },
  {
   "cell_type": "code",
   "execution_count": 14,
   "metadata": {
    "collapsed": false
   },
   "outputs": [
    {
     "name": "stdout",
     "output_type": "stream",
     "text": [
      "\n",
      "Case n = 4, k = 2, we have 10 combinations with replacements:\n",
      "(1, 1)\n",
      "(1, 2)\n",
      "(1, 3)\n",
      "(1, 4)\n",
      "(2, 2)\n",
      "(2, 3)\n",
      "(2, 4)\n",
      "(3, 3)\n",
      "(3, 4)\n",
      "(4, 4)\n",
      "\n",
      "Case n = 4, k = 3, we have 20 combinations with replacements:\n",
      "(1, 1, 1)\n",
      "(1, 1, 2)\n",
      "(1, 1, 3)\n",
      "(1, 1, 4)\n",
      "(1, 2, 2)\n",
      "(1, 2, 3)\n",
      "(1, 2, 4)\n",
      "(1, 3, 3)\n",
      "(1, 3, 4)\n",
      "(1, 4, 4)\n",
      "(2, 2, 2)\n",
      "(2, 2, 3)\n",
      "(2, 2, 4)\n",
      "(2, 3, 3)\n",
      "(2, 3, 4)\n",
      "(2, 4, 4)\n",
      "(3, 3, 3)\n",
      "(3, 3, 4)\n",
      "(3, 4, 4)\n",
      "(4, 4, 4)\n",
      "\n",
      "Case n = 5, k = 2, we have 15 combinations with replacements:\n",
      "(1, 1)\n",
      "(1, 2)\n",
      "(1, 3)\n",
      "(1, 4)\n",
      "(1, 5)\n",
      "(2, 2)\n",
      "(2, 3)\n",
      "(2, 4)\n",
      "(2, 5)\n",
      "(3, 3)\n",
      "(3, 4)\n",
      "(3, 5)\n",
      "(4, 4)\n",
      "(4, 5)\n",
      "(5, 5)\n",
      "\n",
      "Case n = 6, k = 2, we have 21 combinations with replacements.\n",
      "\n",
      "Case n = 6, k = 4, we have 126 combinations with replacements.\n",
      "\n",
      "Case n = 8, k = 4, we have 330 combinations with replacements.\n"
     ]
    }
   ],
   "source": [
    "# Місце для Вашого коду\n",
    "from itertools import combinations_with_replacement as rcombinations\n",
    "\n",
    "\n",
    "list_1 = [[4, 2],[4, 3],[5, 2]]\n",
    "list_2 = [[6, 2],[6, 4],[8, 4]]\n",
    "\n",
    "for i, j in list_1:\n",
    "    c_ = rcombinations(range(1, i+1), j)\n",
    "    c_1 = list(c_)\n",
    "    print(\"\\nCase n = {}, k = {}, we have {} combinations with replacements:\".format(i, j, len(c_1)))\n",
    "    for r in c_1:\n",
    "        print(r)\n",
    "\n",
    "for i, j in list_2:\n",
    "    c_ = rcombinations(range(1, i+1), j)\n",
    "    c_1 = list(c_)\n",
    "    print(\"\\nCase n = {}, k = {}, we have {} combinations with replacements.\".format(i, j, len(c_1)))\n"
   ]
  },
  {
   "cell_type": "markdown",
   "metadata": {
    "collapsed": false
   },
   "source": [
    "### 4.3 Задача\n",
    "Скільки існує 6-цифрових наборів таких, що сума перших трьох цифр дорівнює сумі останніх трьох?\n",
    "\n",
    "**Зауваження 1.** В задачі фігурують 6-цифрові набори, а не числа. Тобто перша цифра може дорівнювати $0$.\n",
    "\n",
    "**Зауваження 2.** Задача передбачає використання функції\n",
    "[product](https://docs.python.org/3/library/itertools.html#itertools.product)."
   ]
  },
  {
   "cell_type": "code",
   "execution_count": 15,
   "metadata": {
    "collapsed": false
   },
   "outputs": [
    {
     "name": "stdout",
     "output_type": "stream",
     "text": [
      "amount: 55252\n"
     ]
    }
   ],
   "source": [
    "# Місце для Вашого коду\n",
    "from itertools import product\n",
    "\n",
    "amount = 0\n",
    "for el in product(range(10), repeat=6):\n",
    "    if sum(el[:3]) == sum(el[3:]):\n",
    "        amount += 1\n",
    "print(\"amount:\", amount)\n"
   ]
  },
  {
   "cell_type": "markdown",
   "metadata": {
    "collapsed": false
   },
   "source": [
    "### 4.4 Задача\n",
    "Скільки існує 6-цифрових чисел, в яких дві однакові цифри не стоять поряд?\n",
    "\n",
    "**Зауваження 1.** В задачі фігурують 6-цифрові числа, тобто перша цифра не може дорівнювати $0$.\n",
    "\n",
    "**Зауваження 2.** Задача передбачає використання функції\n",
    "[product](https://docs.python.org/3/library/itertools.html#itertools.product)."
   ]
  },
  {
   "cell_type": "code",
   "execution_count": 2,
   "metadata": {
    "collapsed": false
   },
   "outputs": [
    {
     "name": "stdout",
     "output_type": "stream",
     "text": [
      "amount = 590490\n"
     ]
    }
   ],
   "source": [
    "# Місце для Вашого коду\n",
    "from itertools import product\n",
    "amount = 0\n",
    "for el in product(range(10), repeat=6):\n",
    "    tmp = True\n",
    "    for i in range(5):\n",
    "        if el[i] == el[i+1]:\n",
    "            tmp = False\n",
    "            break\n",
    "    if tmp:\n",
    "        amount += 1\n",
    "\n",
    "print(\"amount =\", amount)"
   ]
  },
  {
   "cell_type": "code",
   "execution_count": 0,
   "metadata": {
    "collapsed": false
   },
   "outputs": [
   ],
   "source": [
   ]
  }
 ],
 "metadata": {
  "kernelspec": {
   "display_name": "Python 3 (Ubuntu Linux)",
   "language": "python",
   "name": "python3"
  },
  "language_info": {
   "codemirror_mode": {
    "name": "ipython",
    "version": 3
   },
   "file_extension": ".py",
   "mimetype": "text/x-python",
   "name": "python",
   "nbconvert_exporter": "python",
   "pygments_lexer": "ipython3",
   "version": "3.6.7"
  }
 },
 "nbformat": 4,
 "nbformat_minor": 0
}